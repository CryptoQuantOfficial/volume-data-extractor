{
 "cells": [
  {
   "cell_type": "code",
   "execution_count": 44,
   "id": "25ffbd2c",
   "metadata": {},
   "outputs": [],
   "source": [
    "import os\n",
    "import requests\n",
    "import pandas as pd\n",
    "from time import sleep\n",
    "from datetime import datetime, timedelta\n",
    "\n",
    "#######################################\n",
    "# You must insert your api key below. #\n",
    "#######################################\n",
    "API_KEY = \"YOUR_API_KEY\""
   ]
  },
  {
   "cell_type": "markdown",
   "id": "3bc73926",
   "metadata": {},
   "source": [
    "# Base Class\n"
   ]
  },
  {
   "cell_type": "code",
   "execution_count": 45,
   "id": "cedb72cd",
   "metadata": {},
   "outputs": [],
   "source": [
    "class VolumeData:\n",
    "    unit = {\n",
    "        (\"spot\", \"all_exchange\", \"btc_usd\"): \"btc\",\n",
    "        (\"spot\", \"binance\", \"btc_usdt\"): \"btc\",\n",
    "        (\"spot\", \"binance_us\", \"btc_usd\"): \"btc\",\n",
    "        (\"spot\", \"binance_us\", \"btc_usdt\"): \"btc\",\n",
    "        (\"spot\", \"bitfinex\", \"btc_usd\"): \"btc\",\n",
    "        (\"spot\", \"bitfinex\", \"btc_usdt\"): \"btc\",\n",
    "        (\"spot\", \"bittrex\", \"btc_usd\"): \"usd\",\n",
    "        (\"spot\", \"bittrex\", \"btc_usdt\"): \"usd\",\n",
    "        (\"spot\", \"coinbase_pro\", \"btc_usd\"): \"btc\",\n",
    "        (\"spot\", \"ftx\", \"btc_usd\"): \"usd\",\n",
    "        (\"spot\", \"ftx\", \"btc_usdt\"): \"usd\",\n",
    "        (\"spot\", \"gemini\", \"btc_usd\"): \"btc\",\n",
    "        (\"spot\", \"huobi_global\", \"btc_usd\"): \"btc\",\n",
    "        (\"spot\", \"kraken\", \"btc_usd\"): \"btc\",\n",
    "        (\"spot\", \"kraken\", \"btc_usdt\"): \"btc\",\n",
    "        (\"spot\", \"okex\", \"btc_usdt\"): \"btc\",\n",
    "        (\"perpetual\", \"all_exchange\", \"btc_usd\"): \"btc\",\n",
    "        (\"perpetual\", \"binance\", \"btc_usd\"): \"usd_100\",\n",
    "        (\"perpetual\", \"binance\", \"btc_usdt\"): \"btc\",\n",
    "        (\"perpetual\", \"bitmex\", \"btc_usd\"): \"usd\",\n",
    "        (\"perpetual\", \"bybit\", \"btc_usd\"): \"usd\",\n",
    "        (\"perpetual\", \"bybit\", \"btc_usdt\"): \"btc\",\n",
    "        (\"perpetual\", \"deribit\", \"btc_usd\"): \"btc\",\n",
    "        (\"perpetual\", \"ftx\", \"btc_usd\"): \"btc\",\n",
    "        (\"perpetual\", \"huobi_global\", \"btc_usd\"): \"usd_100\",\n",
    "        (\"perpetual\", \"huobi_global\", \"btc_usdt\"): \"btc\",\n",
    "        (\"perpetual\", \"okex\", \"btc_usd\"): \"usd_100\",\n",
    "        (\"perpetual\", \"okex\", \"btc_usdt\"): \"btc\",\n",
    "    }\n",
    "    \n",
    "    def __init__(self, coin, window, _from, _to):\n",
    "        assert window in [\"day\", \"hour\", \"min\"]\n",
    "\n",
    "        api_key = API_KEY\n",
    "        self.coin = coin\n",
    "        self.base_url = f\"https://api.cryptoquant.com/v1/{self.coin}\"\n",
    "        self.data_path = f\"./datasets_{window}/{self.coin}/\"\n",
    "        \n",
    "        self.url_fn = lambda c, e: os.path.join(self.base_url, c, e)\n",
    "        self.headers = {\"Authorization\": \"Bearer \" + api_key}\n",
    "        self.window = window\n",
    "        self.params = {\n",
    "            \"window\": window,\n",
    "            \"from\": _from,\n",
    "            \"to\": _to,\n",
    "            \"limit\": 100000,\n",
    "        }\n",
    "        self._from = _from\n",
    "        self._to = _to\n",
    "\n",
    "    def _get_data(self, c, e, params):\n",
    "        if self.window == \"day\":\n",
    "            idx = \"date\"\n",
    "            idx_form = \"%Y-%m-%d\"\n",
    "            td = timedelta(days=1)\n",
    "        elif self.window == \"hour\":\n",
    "            idx = \"datetime\"\n",
    "            idx_form = \"%Y-%m-%d %H:%M:%S\"\n",
    "            td = timedelta(hours=1)\n",
    "        elif self.window == \"min\":\n",
    "            idx = \"datetime\"\n",
    "            idx_form = \"%Y-%m-%d %H:%M:%S\"\n",
    "            td = timedelta(minutes=1)\n",
    "\n",
    "        url = self.url_fn(c, e)\n",
    "        _from = params[\"from\"]\n",
    "        _to = params[\"to\"]\n",
    "\n",
    "        records = []\n",
    "        while _to > _from:\n",
    "            _params = dict(params, **{\"to\": _to})\n",
    "            resp = requests.get(url, params=_params, headers=self.headers)\n",
    "            sleep(0.5)\n",
    "            data = resp.json()\n",
    "            if len(data[\"result\"][\"data\"]) == 0:\n",
    "                break\n",
    "            last_date = datetime.strptime(data[\"result\"][\"data\"][-1][idx], idx_form)\n",
    "            _to = (last_date - td).strftime('%Y-%m-%dT%H:%M:%S')\n",
    "            records += data[\"result\"][\"data\"]\n",
    "\n",
    "        datum = pd.DataFrame.from_records(records, index=idx)\n",
    "        return datum\n",
    "    \n",
    "    def get_volume(self, market, exchange, symbol, unit, save_path=None):\n",
    "        assert unit in [\"btc\", \"usd\"]\n",
    "        \n",
    "        category = \"market-data\"\n",
    "        endpoint = \"price-ohlcv\"\n",
    "        params = dict(self.params, **{\"market\": market, \"exchange\": exchange, \"symbol\": symbol})\n",
    "        data = self._get_data(category, endpoint, params)[::-1]\n",
    "        \n",
    "        unit_info = self.unit[(market, exchange, symbol)]\n",
    "        if len(unit_info.split(\"_\")) == 1:\n",
    "            native = unit_info\n",
    "            cont_size = 1\n",
    "        else:\n",
    "            native = unit_info.split(\"_\")[0]\n",
    "            cont_size = int(unit_info.split(\"_\")[1])\n",
    "        \n",
    "        if unit == \"btc\" and native == \"usd\":\n",
    "            data[\"volume\"] /= data[\"close\"]\n",
    "        elif unit == \"usd\" and native == \"btc\":\n",
    "            data[\"volume\"] *= data[\"close\"]\n",
    "        data[\"volume\"] *= cont_size\n",
    "        \n",
    "        data = data[\"volume\"]\n",
    "        if save_path:\n",
    "            os.makedirs(self.data_path, exist_ok=True)\n",
    "            data.to_excel(os.path.join(self.data_path, save_path))\n",
    "        return data"
   ]
  },
  {
   "cell_type": "markdown",
   "id": "90ace933",
   "metadata": {},
   "source": [
    "## Get Volume Data"
   ]
  },
  {
   "cell_type": "markdown",
   "id": "092a64fa",
   "metadata": {},
   "source": [
    "## Define parameters"
   ]
  },
  {
   "cell_type": "code",
   "execution_count": 46,
   "id": "10159d5f",
   "metadata": {},
   "outputs": [],
   "source": [
    "coin = \"btc\"  # base asset\n",
    "window = \"min\"  # window: day, hour, min \n",
    "_from = \"20210701T000000\"  # from datetime\n",
    "_to = \"20210705T000000\"  # to datetime\n",
    "market = \"spot\"  # market of asset: spot, perpetual\n",
    "exchange = \"ftx\"  # exchange\n",
    "symbol = \"btc_usdt\"  # symbol\n",
    "unit = \"btc\"  # volume unit"
   ]
  },
  {
   "cell_type": "markdown",
   "id": "7cac9bc8",
   "metadata": {},
   "source": [
    "## Get data from CryptoQuant API and save data in excel"
   ]
  },
  {
   "cell_type": "code",
   "execution_count": 47,
   "id": "4dc8dee8",
   "metadata": {},
   "outputs": [
    {
     "data": {
      "text/plain": [
       "datetime\n",
       "2021-07-01 00:00:00     2.555830\n",
       "2021-07-01 00:01:00     6.281442\n",
       "2021-07-01 00:02:00     9.718029\n",
       "2021-07-01 00:03:00     1.793022\n",
       "2021-07-01 00:04:00     0.512317\n",
       "                         ...    \n",
       "2021-07-04 23:56:00     7.252100\n",
       "2021-07-04 23:57:00     0.243312\n",
       "2021-07-04 23:58:00     4.407304\n",
       "2021-07-04 23:59:00     0.569475\n",
       "2021-07-05 00:00:00    21.781438\n",
       "Name: volume, Length: 5761, dtype: float64"
      ]
     },
     "execution_count": 47,
     "metadata": {},
     "output_type": "execute_result"
    }
   ],
   "source": [
    "data = VolumeData(coin, window, _from, _to)\n",
    "data.get_volume(market, exchange, symbol, unit, save_path=\"output.xlsx\")"
   ]
  },
  {
   "cell_type": "code",
   "execution_count": null,
   "id": "e7e0ba52",
   "metadata": {},
   "outputs": [],
   "source": []
  }
 ],
 "metadata": {
  "kernelspec": {
   "display_name": "Python 3 (ipykernel)",
   "language": "python",
   "name": "python3"
  },
  "language_info": {
   "codemirror_mode": {
    "name": "ipython",
    "version": 3
   },
   "file_extension": ".py",
   "mimetype": "text/x-python",
   "name": "python",
   "nbconvert_exporter": "python",
   "pygments_lexer": "ipython3",
   "version": "3.9.2"
  }
 },
 "nbformat": 4,
 "nbformat_minor": 5
}
